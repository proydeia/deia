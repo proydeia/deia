{
 "cells": [
  {
   "cell_type": "code",
   "execution_count": 189,
   "metadata": {},
   "outputs": [],
   "source": [
    "import pickle\n",
    "import json\n",
    "import pandas as pd\n",
    "import numpy as np\n",
    "from sklearn.model_selection import train_test_split\n",
    "import matplotlib.pyplot as plt\n",
    "from sklearn.metrics import accuracy_score, confusion_matrix, mean_absolute_error, f1_score\n",
    "import copy"
   ]
  },
  {
   "cell_type": "code",
   "execution_count": 190,
   "metadata": {},
   "outputs": [],
   "source": [
    "obsGLI = None\n",
    "with open('obsgli.json') as f:\n",
    "    obsGLI = json.load(f)\n",
    "\n",
    "obsGold = None\n",
    "with open('obs.json') as f:\n",
    "    obsGold = json.load(f)\n",
    "\n",
    "resGLI = None\n",
    "with open('resgli.json') as f:\n",
    "    resGLI = json.load(f)\n",
    "\n",
    "resGold = None\n",
    "with open('res.json') as f:\n",
    "    resGold = json.load(f)"
   ]
  },
  {
   "cell_type": "code",
   "execution_count": 191,
   "metadata": {},
   "outputs": [],
   "source": [
    "modelObsGLI = pickle.load(open('modelObsGLI.pkl', 'rb'))\n",
    "modelObsGLIClassification = pickle.load(open('modelObsClassificationGLI.pkl', 'rb'))\n",
    "modelResGLI = pickle.load(open('modelResGLI.pkl', 'rb'))\n",
    "modelObsGold = pickle.load(open('modelObsGold.pkl', 'rb'))\n",
    "modelResGold = pickle.load(open('modelResGold.pkl', 'rb'))"
   ]
  },
  {
   "cell_type": "markdown",
   "metadata": {},
   "source": [
    "## Datasets"
   ]
  },
  {
   "cell_type": "code",
   "execution_count": null,
   "metadata": {},
   "outputs": [],
   "source": []
  },
  {
   "cell_type": "code",
   "execution_count": null,
   "metadata": {},
   "outputs": [],
   "source": []
  },
  {
   "cell_type": "code",
   "execution_count": null,
   "metadata": {},
   "outputs": [],
   "source": []
  },
  {
   "cell_type": "code",
   "execution_count": null,
   "metadata": {},
   "outputs": [],
   "source": []
  },
  {
   "cell_type": "markdown",
   "metadata": {},
   "source": [
    "## Obstruction"
   ]
  },
  {
   "cell_type": "markdown",
   "metadata": {},
   "source": [
    "### GLI"
   ]
  },
  {
   "cell_type": "markdown",
   "metadata": {},
   "source": [
    "##### Normal"
   ]
  },
  {
   "cell_type": "code",
   "execution_count": 192,
   "metadata": {},
   "outputs": [],
   "source": [
    "obsGLICopy = copy.deepcopy(obsGLI)\n",
    "\n",
    "xObs = []\n",
    "yObs = []\n",
    "for item in obsGLICopy:\n",
    "    yObs.append(item['Obstruction'])\n",
    "    del item['Obstruction']\n",
    "    xObs.append(list(item.values()))\n",
    "\n",
    "xObsTrain, xObsVal, yObsTrain, yObsVal = train_test_split(xObs, yObs, test_size=0.25, random_state=42)"
   ]
  },
  {
   "cell_type": "code",
   "execution_count": 193,
   "metadata": {},
   "outputs": [
    {
     "name": "stdout",
     "output_type": "stream",
     "text": [
      "\u001b[1m2/2\u001b[0m \u001b[32m━━━━━━━━━━━━━━━━━━━━\u001b[0m\u001b[37m\u001b[0m \u001b[1m0s\u001b[0m 42ms/step\n",
      "MAE score for val: 0.3094766304431552\n",
      "\u001b[1m5/5\u001b[0m \u001b[32m━━━━━━━━━━━━━━━━━━━━\u001b[0m\u001b[37m\u001b[0m \u001b[1m0s\u001b[0m 750us/step\n",
      "MAE score for train: 0.39487326434173153\n"
     ]
    }
   ],
   "source": [
    "print(\"MAE score for val:\", mean_absolute_error(yObsVal, modelObsGLI.predict(pd.DataFrame(xObsVal))))\n",
    "print(\"MAE score for train:\", mean_absolute_error(yObsTrain, modelObsGLI.predict(pd.DataFrame(xObsTrain))))"
   ]
  },
  {
   "cell_type": "markdown",
   "metadata": {},
   "source": [
    "##### Classification"
   ]
  },
  {
   "cell_type": "code",
   "execution_count": 194,
   "metadata": {},
   "outputs": [],
   "source": [
    "def n_acurracy(m, dX, dY, n=1):\n",
    "    l = m.predict(pd.DataFrame(dX)).tolist()\n",
    "    s = 0\n",
    "\n",
    "    for p in l:\n",
    "        for i in range(len(p)):\n",
    "            p[i] = (p[i], i)\n",
    "        p.sort(reverse=True)\n",
    "\n",
    "    #print(l)\n",
    "\n",
    "    for i in range(n):\n",
    "        for j in range(len(dX)):\n",
    "            if dY[j] == l[j][i][1]:\n",
    "                s += 1\n",
    "\n",
    "    return s / len(dX)\n",
    "\n",
    "def n_f1_score(model, X, y, n=1):\n",
    "    # Get predictions (these are already probabilities if using softmax)\n",
    "    y_prob = model.predict(pd.DataFrame(X))\n",
    "    \n",
    "    # Get top n predictions for each sample\n",
    "    top_n_preds = []\n",
    "    for prob in y_prob:\n",
    "        # Get indices of top n highest probabilities\n",
    "        top_n_indices = np.argsort(prob)[-n:][::-1]\n",
    "        top_n_preds.append(top_n_indices)\n",
    "    \n",
    "    y_pred = []\n",
    "    for i, preds in enumerate(top_n_preds):\n",
    "        y_pred.append(y[i] if y[i] in preds else preds[0])\n",
    "    \n",
    "    return f1_score(y, y_pred, average='weighted')"
   ]
  },
  {
   "cell_type": "code",
   "execution_count": 195,
   "metadata": {},
   "outputs": [],
   "source": [
    "obsGLICopy2 = copy.deepcopy(obsGLI)\n",
    "\n",
    "xObs = []\n",
    "yObs = []\n",
    "for item in obsGLICopy2:\n",
    "    yObs.append(item['Obstruction'])\n",
    "    del item['Obstruction']\n",
    "    xObs.append(list(item.values()))\n",
    "\n",
    "xObsTrain, xObsVal, yObsTrain, yObsVal = train_test_split(xObs, yObs, test_size=0.25, random_state=42)"
   ]
  },
  {
   "cell_type": "code",
   "execution_count": 196,
   "metadata": {},
   "outputs": [
    {
     "name": "stdout",
     "output_type": "stream",
     "text": [
      "Train:\n",
      "\u001b[1m5/5\u001b[0m \u001b[32m━━━━━━━━━━━━━━━━━━━━\u001b[0m\u001b[37m\u001b[0m \u001b[1m0s\u001b[0m 750us/step\n",
      "Train accuracy with top 1: 0.8875\n",
      "\u001b[1m5/5\u001b[0m \u001b[32m━━━━━━━━━━━━━━━━━━━━\u001b[0m\u001b[37m\u001b[0m \u001b[1m0s\u001b[0m 750us/step\n",
      "Train accuracy with top 2 0.96875\n",
      "\u001b[1m5/5\u001b[0m \u001b[32m━━━━━━━━━━━━━━━━━━━━\u001b[0m\u001b[37m\u001b[0m \u001b[1m0s\u001b[0m 750us/step\n",
      "Train f1 score with top 1 0.8527556818181818\n",
      "\u001b[1m5/5\u001b[0m \u001b[32m━━━━━━━━━━━━━━━━━━━━\u001b[0m\u001b[37m\u001b[0m \u001b[1m0s\u001b[0m 500us/step\n",
      "Train f1 score with top 2 0.9628078403078405\n",
      "Val:\n",
      "\u001b[1m2/2\u001b[0m \u001b[32m━━━━━━━━━━━━━━━━━━━━\u001b[0m\u001b[37m\u001b[0m \u001b[1m0s\u001b[0m 29ms/step\n",
      "Val accuracy with top 1: 0.8703703703703703\n",
      "\u001b[1m2/2\u001b[0m \u001b[32m━━━━━━━━━━━━━━━━━━━━\u001b[0m\u001b[37m\u001b[0m \u001b[1m0s\u001b[0m 1ms/step \n",
      "Val accuracy with top 2 0.9629629629629629\n",
      "\u001b[1m2/2\u001b[0m \u001b[32m━━━━━━━━━━━━━━━━━━━━\u001b[0m\u001b[37m\u001b[0m \u001b[1m0s\u001b[0m 2ms/step \n",
      "Val f1 score with top 1 0.8591911309302614\n",
      "\u001b[1m2/2\u001b[0m \u001b[32m━━━━━━━━━━━━━━━━━━━━\u001b[0m\u001b[37m\u001b[0m \u001b[1m0s\u001b[0m 1ms/step \n",
      "Val f1 score with top 2 0.9517435564219191\n"
     ]
    }
   ],
   "source": [
    "print(\"Train:\")\n",
    "print(\"Train accuracy with top 1:\", n_acurracy(modelObsGLIClassification, xObsTrain, yObsTrain))\n",
    "print(\"Train accuracy with top 2\", n_acurracy(modelObsGLIClassification, xObsTrain, yObsTrain, 2))\n",
    "print(\"Train f1 score with top 1\", n_f1_score(modelObsGLIClassification, xObsTrain, yObsTrain))\n",
    "print(\"Train f1 score with top 2\", n_f1_score(modelObsGLIClassification, xObsTrain, yObsTrain, 2))\n",
    "\n",
    "print(\"Val:\")\n",
    "print(\"Val accuracy with top 1:\", n_acurracy(modelObsGLIClassification, xObsVal, yObsVal))\n",
    "print(\"Val accuracy with top 2\", n_acurracy(modelObsGLIClassification, xObsVal, yObsVal, 2))\n",
    "print(\"Val f1 score with top 1\", n_f1_score(modelObsGLIClassification, xObsVal, yObsVal))\n",
    "print(\"Val f1 score with top 2\", n_f1_score(modelObsGLIClassification, xObsVal, yObsVal, 2))"
   ]
  },
  {
   "cell_type": "markdown",
   "metadata": {},
   "source": [
    "### Gold"
   ]
  },
  {
   "cell_type": "code",
   "execution_count": 197,
   "metadata": {},
   "outputs": [],
   "source": [
    "obsGoldCopy = copy.deepcopy(obsGold)\n",
    "\n",
    "xObs = []\n",
    "yObs = []\n",
    "for item in obsGoldCopy:\n",
    "    yObs.append(obsGoldCopy[item]['obstruction'])\n",
    "    del obsGoldCopy[item]['obstruction']\n",
    "    xObs.append(list(obsGoldCopy[item].values()))\n",
    "\n",
    "xObsTrain, xObsVal, yObsTrain, yObsVal = train_test_split(xObs, yObs, test_size=0.25, random_state=42)"
   ]
  },
  {
   "cell_type": "code",
   "execution_count": 198,
   "metadata": {},
   "outputs": [
    {
     "name": "stdout",
     "output_type": "stream",
     "text": [
      "\u001b[1m11/11\u001b[0m \u001b[32m━━━━━━━━━━━━━━━━━━━━\u001b[0m\u001b[37m\u001b[0m \u001b[1m0s\u001b[0m 3ms/step \n",
      "MAE score val: 0.7986502368515784\n",
      "\u001b[1m31/31\u001b[0m \u001b[32m━━━━━━━━━━━━━━━━━━━━\u001b[0m\u001b[37m\u001b[0m \u001b[1m0s\u001b[0m 467us/step\n",
      "MAE score train: 0.7955585514232288\n"
     ]
    }
   ],
   "source": [
    "print(\"MAE score val:\", mean_absolute_error(yObsVal, modelObsGold.predict(pd.DataFrame(xObsVal))))\n",
    "print(\"MAE score train:\", mean_absolute_error(yObsTrain, modelObsGold.predict(pd.DataFrame(xObsTrain))))"
   ]
  },
  {
   "cell_type": "markdown",
   "metadata": {},
   "source": [
    "## Restriction"
   ]
  },
  {
   "cell_type": "markdown",
   "metadata": {},
   "source": [
    "### GLI"
   ]
  },
  {
   "cell_type": "code",
   "execution_count": 199,
   "metadata": {},
   "outputs": [],
   "source": [
    "resGLICopy = copy.deepcopy(resGLI)\n",
    "\n",
    "xObs = []\n",
    "yObs = []\n",
    "for item in resGLICopy:\n",
    "    yObs.append(item['Restriction'])\n",
    "    del item['Restriction']\n",
    "    xObs.append(list(item.values()))\n",
    "\n",
    "xObsTrain, xObsVal, yObsTrain, yObsVal = train_test_split(xObs, yObs, test_size=0.25, random_state=42)"
   ]
  },
  {
   "cell_type": "code",
   "execution_count": 200,
   "metadata": {},
   "outputs": [
    {
     "name": "stdout",
     "output_type": "stream",
     "text": [
      "0.9629629629629629\n",
      "0.888888888888889\n",
      "[[44  0]\n",
      " [ 2  8]]\n",
      "0.93125\n",
      "0.7659574468085106\n",
      "[[131   9]\n",
      " [  2  18]]\n"
     ]
    },
    {
     "data": {
      "text/plain": [
       "<matplotlib.image.AxesImage at 0x1a1dd91df10>"
      ]
     },
     "execution_count": 200,
     "metadata": {},
     "output_type": "execute_result"
    },
    {
     "data": {
      "image/png": "[encoded data removed]",
      "text/plain": [
       "<Figure size 480x480 with 1 Axes>"
      ]
     },
     "metadata": {},
     "output_type": "display_data"
    },
    {
     "data": {
      "image/png": "[encoded data removed]",
      "text/plain": [
       "<Figure size 480x480 with 1 Axes>"
      ]
     },
     "metadata": {},
     "output_type": "display_data"
    }
   ],
   "source": [
    "print(accuracy_score(yObsVal, modelResGLI.predict(pd.DataFrame(xObsVal))))\n",
    "print(f1_score(yObsVal, modelResGLI.predict(pd.DataFrame(xObsVal))))\n",
    "matrix = confusion_matrix(yObsVal, modelResGLI.predict(pd.DataFrame(xObsVal)))\n",
    "\n",
    "print(matrix)\n",
    "plt.matshow(matrix)\n",
    "\n",
    "print(accuracy_score(yObsTrain, modelResGLI.predict(pd.DataFrame(xObsTrain))))\n",
    "print(f1_score(yObsTrain, modelResGLI.predict(pd.DataFrame(xObsTrain))))\n",
    "matrix_train = confusion_matrix(yObsTrain, modelResGLI.predict(pd.DataFrame(xObsTrain)))\n",
    "\n",
    "print(matrix_train)\n",
    "plt.matshow(matrix_train)"
   ]
  },
  {
   "cell_type": "markdown",
   "metadata": {},
   "source": [
    "### Gold"
   ]
  },
  {
   "cell_type": "code",
   "execution_count": 201,
   "metadata": {},
   "outputs": [],
   "source": [
    "resGoldCopy = copy.deepcopy(resGold)\n",
    "\n",
    "xObs = []\n",
    "yObs = []\n",
    "for item in resGoldCopy:\n",
    "    yObs.append(resGoldCopy[item]['restriction'])\n",
    "    del resGoldCopy[item]['restriction']\n",
    "    xObs.append(list(resGoldCopy[item].values()))\n",
    "\n",
    "xObsTrain, xObsVal, yObsTrain, yObsVal = train_test_split(xObs, yObs, test_size=0.25, random_state=42)"
   ]
  },
  {
   "cell_type": "code",
   "execution_count": 202,
   "metadata": {},
   "outputs": [
    {
     "name": "stdout",
     "output_type": "stream",
     "text": [
      "0.7553516819571865\n",
      "0.047619047619047616\n",
      "[[245  78]\n",
      " [  2   2]]\n",
      "0.6921508664627931\n",
      "0.08484848484848484\n",
      "[[665 299]\n",
      " [  3  14]]\n"
     ]
    },
    {
     "data": {
      "text/plain": [
       "<matplotlib.image.AxesImage at 0x1a1df1fbe10>"
      ]
     },
     "execution_count": 202,
     "metadata": {},
     "output_type": "execute_result"
    },
    {
     "data": {
      "image/png": "[encoded data removed]",
      "text/plain": [
       "<Figure size 480x480 with 1 Axes>"
      ]
     },
     "metadata": {},
     "output_type": "display_data"
    },
    {
     "data": {
      "image/png": "[encoded data removed]",
      "text/plain": [
       "<Figure size 480x480 with 1 Axes>"
      ]
     },
     "metadata": {},
     "output_type": "display_data"
    }
   ],
   "source": [
    "print(accuracy_score(yObsVal, modelResGold.predict(pd.DataFrame(xObsVal))))\n",
    "print(f1_score(yObsVal, modelResGold.predict(pd.DataFrame(xObsVal))))\n",
    "matrix = confusion_matrix(yObsVal, modelResGold.predict(pd.DataFrame(xObsVal)))\n",
    "\n",
    "print(matrix)\n",
    "plt.matshow(matrix)\n",
    "\n",
    "print(accuracy_score(yObsTrain, modelResGold.predict(pd.DataFrame(xObsTrain))))\n",
    "print(f1_score(yObsTrain, modelResGold.predict(pd.DataFrame(xObsTrain))))\n",
    "matrix_train = confusion_matrix(yObsTrain, modelResGold.predict(pd.DataFrame(xObsTrain)))\n",
    "\n",
    "print(matrix_train)\n",
    "plt.matshow(matrix_train)"
   ]
  }
 ],
 "metadata": {
  "kernelspec": {
   "display_name": ".venv",
   "language": "python",
   "name": "python3"
  },
  "language_info": {
   "codemirror_mode": {
    "name": "ipython",
    "version": 3
   },
   "file_extension": ".py",
   "mimetype": "text/x-python",
   "name": "python",
   "nbconvert_exporter": "python",
   "pygments_lexer": "ipython3",
   "version": "3.11.0"
  },
  "orig_nbformat": 4
 },
 "nbformat": 4,
 "nbformat_minor": 2
}
