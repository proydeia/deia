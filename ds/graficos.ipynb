{
 "cells": [
  {
   "cell_type": "code",
   "execution_count": 20,
   "metadata": {},
   "outputs": [],
   "source": [
    "import pickle\n",
    "import json\n",
    "import os\n",
    "from sklearn.model_selection import train_test_split\n",
    "from sklearn.metrics import confusion_matrix, ConfusionMatrixDisplay\n",
    "from collections import Counter\n",
    "import matplotlib.pyplot as plt"
   ]
  },
  {
   "cell_type": "code",
   "execution_count": 3,
   "metadata": {},
   "outputs": [],
   "source": [
    "obs = None\n",
    "with open('obs.json') as f:\n",
    "    obs = json.load(f)\n",
    "\n",
    "res = None\n",
    "with open('res.json') as f:\n",
    "    res = json.load(f)"
   ]
  },
  {
   "cell_type": "code",
   "execution_count": 4,
   "metadata": {},
   "outputs": [
    {
     "name": "stdout",
     "output_type": "stream",
     "text": [
      "X Train:  981 \n",
      "X Val:  327 \n",
      "Y Train:  981 \n",
      "Y Val:  327\n"
     ]
    }
   ],
   "source": [
    "xObs = []\n",
    "yObs = []\n",
    "for k, v in obs.items():\n",
    "    vals = v.copy()\n",
    "    del vals['obstruction']\n",
    "    xObs.append(list(vals.values()))\n",
    "    yObs.append(v['obstruction'] / 4)\n",
    "\n",
    "xObsTrain, xObsVal, yObsTrain, yObsVal = train_test_split(xObs, yObs, test_size=0.25, random_state=42)\n",
    "print(\n",
    "    \"X Train: \", len(xObsTrain),\n",
    "    \"\\nX Val: \", len(xObsVal),\n",
    "    \"\\nY Train: \", len(yObsTrain),\n",
    "    \"\\nY Val: \", len(yObsVal)\n",
    ")"
   ]
  },
  {
   "cell_type": "code",
   "execution_count": 5,
   "metadata": {},
   "outputs": [
    {
     "name": "stdout",
     "output_type": "stream",
     "text": [
      "X Train:  981 \n",
      "X Val:  327 \n",
      "Y Train:  Counter({0: 969, 1: 12}) \n",
      "Y Val:  Counter({0: 318, 1: 9})\n"
     ]
    }
   ],
   "source": [
    "xRes = []\n",
    "yRes = []\n",
    "\n",
    "for k, v in res.items():\n",
    "    vals = v.copy()\n",
    "    del vals['restriction']\n",
    "    xRes.append(list(vals.values()))\n",
    "    yRes.append(v['restriction'])\n",
    "\n",
    "xResTrain, xResVal, yResTrain, yResVal = train_test_split(xRes, yRes, test_size=0.25, random_state=23)\n",
    "print(\n",
    "    \"X Train: \", len(xResTrain),\n",
    "    \"\\nX Val: \", len(xResVal),\n",
    "    \"\\nY Train: \", Counter(yResTrain),\n",
    "    \"\\nY Val: \", Counter(yResVal)\n",
    ")"
   ]
  },
  {
   "cell_type": "code",
   "execution_count": 14,
   "metadata": {},
   "outputs": [],
   "source": [
    "if os.path.exists('modelObs.pkl'):\n",
    "    with open('modelObs.pkl', 'rb') as f:\n",
    "        modelObs = pickle.load(f)\n",
    "\n",
    "if os.path.exists('modelRes.pkl'):\n",
    "    with open('modelRes.pkl', 'rb') as f:\n",
    "        modelRes = pickle.load(f)"
   ]
  },
  {
   "cell_type": "code",
   "execution_count": 31,
   "metadata": {},
   "outputs": [
    {
     "data": {
      "text/plain": [
       "<sklearn.metrics._plot.confusion_matrix.ConfusionMatrixDisplay at 0x15907e7c5b0>"
      ]
     },
     "execution_count": 31,
     "metadata": {},
     "output_type": "execute_result"
    },
    {
     "data": {
      "image/png": "[encoded data removed]",
      "text/plain": [
       "<Figure size 640x480 with 2 Axes>"
      ]
     },
     "metadata": {},
     "output_type": "display_data"
    }
   ],
   "source": [
    "trainPred = modelRes.predict(xResTrain)\n",
    "valPred = modelRes.predict(xResVal)\n",
    "\n",
    "cm = confusion_matrix(trainPred, yResTrain)\n",
    "ConfusionMatrixDisplay(cm).plot()"
   ]
  }
 ],
 "metadata": {
  "kernelspec": {
   "display_name": "Python 3",
   "language": "python",
   "name": "python3"
  },
  "language_info": {
   "codemirror_mode": {
    "name": "ipython",
    "version": 3
   },
   "file_extension": ".py",
   "mimetype": "text/x-python",
   "name": "python",
   "nbconvert_exporter": "python",
   "pygments_lexer": "ipython3",
   "version": "3.10.11"
  },
  "orig_nbformat": 4
 },
 "nbformat": 4,
 "nbformat_minor": 2
}
